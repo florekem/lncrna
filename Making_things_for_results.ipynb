{
 "cells": [
  {
   "cell_type": "code",
   "execution_count": null,
   "metadata": {},
   "outputs": [],
   "source": [
    "import numpy as np\n",
    "import pandas as pd\n",
    "import matplotlib.pyplot as plt \n",
    "import seaborn as sns\n",
    "from scipy import stats\n",
    "from statistics import mean, stdev\n",
    "from math import sqrt\n",
    "from matplotlib import pyplot"
   ]
  },
  {
   "cell_type": "code",
   "execution_count": null,
   "metadata": {},
   "outputs": [],
   "source": [
    "# load RNAfold output\n",
    "\n",
    "rnafold_protein = pd.read_csv('/mnt/sdb1/Project_MIM/Projects_Combined/combined_fasta/rnafold/protein_coding_rnafold_out_GC.csv')\n",
    "rnafold_nc = pd.read_csv('/mnt/sdb1/Project_MIM/Projects_Combined/combined_fasta/rnafold/noncoding_rnafold_out_GC.csv')"
   ]
  },
  {
   "cell_type": "markdown",
   "metadata": {},
   "source": [
    "Overview:\n",
    "==="
   ]
  },
  {
   "cell_type": "code",
   "execution_count": null,
   "metadata": {},
   "outputs": [],
   "source": [
    "rnafold_protein.head(5)"
   ]
  },
  {
   "cell_type": "code",
   "execution_count": null,
   "metadata": {},
   "outputs": [],
   "source": [
    "rnafold_protein.shape"
   ]
  },
  {
   "cell_type": "code",
   "execution_count": null,
   "metadata": {},
   "outputs": [],
   "source": [
    "rnafold_nc.head(5)"
   ]
  },
  {
   "cell_type": "code",
   "execution_count": null,
   "metadata": {
    "scrolled": false
   },
   "outputs": [],
   "source": [
    "rnafold_nc.shape"
   ]
  },
  {
   "cell_type": "code",
   "execution_count": null,
   "metadata": {},
   "outputs": [],
   "source": []
  },
  {
   "cell_type": "markdown",
   "metadata": {},
   "source": [
    "General stats:\n",
    "==="
   ]
  },
  {
   "cell_type": "code",
   "execution_count": null,
   "metadata": {},
   "outputs": [],
   "source": [
    "rnafold_protein.describe()"
   ]
  },
  {
   "cell_type": "code",
   "execution_count": null,
   "metadata": {
    "scrolled": false
   },
   "outputs": [],
   "source": [
    "rnafold_nc.describe()"
   ]
  },
  {
   "cell_type": "code",
   "execution_count": null,
   "metadata": {
    "scrolled": true
   },
   "outputs": [],
   "source": [
    "# mead and median are ~ simillar (distribution should be symmetrical)\n",
    "rnafold_nc['MFE_corrected'].median()"
   ]
  },
  {
   "cell_type": "markdown",
   "metadata": {},
   "source": [
    "General plots:\n",
    "==="
   ]
  },
  {
   "cell_type": "markdown",
   "metadata": {},
   "source": [
    "MFE corrected:\n",
    "---"
   ]
  },
  {
   "cell_type": "code",
   "execution_count": null,
   "metadata": {
    "scrolled": true
   },
   "outputs": [],
   "source": [
    "# MFE corrected:\n",
    "\n",
    "rnafold_protein['MFE_corrected'].plot.density(xlim = (-0.5, 0.0), label = 'Coding', legend = True)\n",
    "rnafold_nc['MFE_corrected'].plot.density(xlim = (-0.5, 0.0), label = 'Non-coding', legend = True)"
   ]
  },
  {
   "cell_type": "code",
   "execution_count": null,
   "metadata": {
    "scrolled": true
   },
   "outputs": [],
   "source": [
    "pyplot.figure(dpi=300)\n",
    "sns.set_context(\"paper\", font_scale=2)   \n",
    "sns.distplot(rnafold_protein['MFE_corrected'], label = 'Coding', hist=False, color=\"#018571\", kde_kws={\"shade\": True}) \n",
    "sns.distplot(rnafold_nc['MFE_corrected'], label = 'Non-coding', hist=False, color=\"#a6611a\", kde_kws={\"shade\": True})\n",
    "plt.legend()\n",
    "plt.xlim(-0.5, 0.0)"
   ]
  },
  {
   "cell_type": "markdown",
   "metadata": {},
   "source": [
    "sequence length:\n",
    "---\n"
   ]
  },
  {
   "cell_type": "code",
   "execution_count": null,
   "metadata": {},
   "outputs": [],
   "source": [
    "# distribution of sequence length\n",
    "\n",
    "rnafold_protein['seq_len'].plot.density(xlim = (0.0, 7500.0), label = 'Coding', legend = True) #weights = (np.ones_like(rnafold_protein.index) / len(rnafold_protein.index))*100)\n",
    "rnafold_nc['seq_len'].plot.density(xlim = (0.0, 7500.0), label = 'Non-coding', legend = True) #weights = (np.ones_like(rnafold_nc.index) / len(rnafold_nc.index))*100)\n"
   ]
  },
  {
   "cell_type": "code",
   "execution_count": null,
   "metadata": {
    "scrolled": true
   },
   "outputs": [],
   "source": [
    "pyplot.figure(dpi=300)\n",
    "sns.set_context(\"paper\", font_scale=2)\n",
    "sns.distplot(rnafold_protein['seq_len'], label = 'Coding', hist=False, color=\"green\", kde_kws={\"shade\": True})\n",
    "sns.distplot(rnafold_nc['seq_len'], label = 'Non-coding', hist=False, color=\"brown\", kde_kws={\"shade\": True})\n",
    "plt.xlim(0, 7500)\n",
    "plt.legend()"
   ]
  },
  {
   "cell_type": "markdown",
   "metadata": {},
   "source": [
    "GC Content:\n",
    "---"
   ]
  },
  {
   "cell_type": "code",
   "execution_count": null,
   "metadata": {
    "scrolled": true
   },
   "outputs": [],
   "source": [
    "# GC content analysis:\n",
    "\n",
    "\n",
    "rnafold_protein['Percent_GC_countent'].plot.density(label = 'Coding', legend = True)\n",
    "rnafold_nc['Percent_GC_countent'].plot.density(label = 'Non-coding', legend = True)\n"
   ]
  },
  {
   "cell_type": "code",
   "execution_count": null,
   "metadata": {
    "scrolled": true
   },
   "outputs": [],
   "source": [
    "pyplot.figure(dpi=300)\n",
    "sns.set_context(\"paper\", font_scale=2)\n",
    "sns.distplot(rnafold_protein['Percent_GC_countent'], label = 'Coding', hist=False, color=\"green\", kde_kws={\"shade\": True})\n",
    "sns.distplot(rnafold_nc['Percent_GC_countent'], label = 'Non-coding', hist=False, color=\"brown\", kde_kws={\"shade\": True})\n",
    "plt.legend()"
   ]
  },
  {
   "cell_type": "markdown",
   "metadata": {},
   "source": [
    "TPM:\n",
    "---"
   ]
  },
  {
   "cell_type": "code",
   "execution_count": null,
   "metadata": {},
   "outputs": [],
   "source": [
    "TPM_IVF_1 = pd.read_csv('/mnt/sdb1/Projects_Combined/RSEM_out_TPM/IVF_1_RSEM_filt_TPM', sep='\\t')\n",
    "TPM_IVF_2 = pd.read_csv('/mnt/sdb1/Projects_Combined/RSEM_out_TPM/IVF_2_RSEM_filt_TPM', sep='\\t')"
   ]
  },
  {
   "cell_type": "code",
   "execution_count": null,
   "metadata": {},
   "outputs": [],
   "source": [
    "TPM_IVF_1.set_index('transcript_id', drop=True, inplace=True)\n",
    "TPM_IVF_2.set_index('transcript_id', drop=True, inplace=True)"
   ]
  },
  {
   "cell_type": "code",
   "execution_count": null,
   "metadata": {},
   "outputs": [],
   "source": [
    "TPM_IVF_1_10 = TPM_IVF_1[TPM_IVF_1['TPM'] > 10]"
   ]
  },
  {
   "cell_type": "code",
   "execution_count": null,
   "metadata": {},
   "outputs": [],
   "source": [
    "TPM_IVF_2_10 = TPM_IVF_2[TPM_IVF_2['TPM'] > 10]"
   ]
  },
  {
   "cell_type": "code",
   "execution_count": null,
   "metadata": {},
   "outputs": [],
   "source": [
    "merged_IVF = pd.merge(TPM_IVF_1, TPM_IVF_2, how='inner', left_index=True, right_index=True)"
   ]
  },
  {
   "cell_type": "code",
   "execution_count": null,
   "metadata": {},
   "outputs": [],
   "source": [
    "merged_IVF_10 = merged_IVF[merged_IVF['TPM_x'] > 0.5]\n",
    "merged_IVF_10 = merged_IVF[merged_IVF['TPM_y'] > 0.5]"
   ]
  },
  {
   "cell_type": "code",
   "execution_count": null,
   "metadata": {},
   "outputs": [],
   "source": [
    "merged_IVF_10['log_TPM_x'] = np.log2(merged_IVF_10['TPM_x'].values + 1)"
   ]
  },
  {
   "cell_type": "code",
   "execution_count": null,
   "metadata": {},
   "outputs": [],
   "source": [
    "merged_IVF_10['log_TPM_y'] = np.log2(merged_IVF_10['TPM_y'].values + 1)"
   ]
  },
  {
   "cell_type": "code",
   "execution_count": null,
   "metadata": {
    "scrolled": true
   },
   "outputs": [],
   "source": [
    "merged_IVF_10"
   ]
  },
  {
   "cell_type": "code",
   "execution_count": null,
   "metadata": {},
   "outputs": [],
   "source": [
    "#IVF_1 vs IVF_2 scatterplot:\n",
    "\n",
    "sns.regplot(x='log_TPM_x', y='log_TPM_y', data=merged_IVF_10)\n"
   ]
  },
  {
   "cell_type": "code",
   "execution_count": null,
   "metadata": {},
   "outputs": [],
   "source": [
    "np.corrcoef(x=merged_IVF_10['log_TPM_x'], y=merged_IVF_10['log_TPM_y'])"
   ]
  },
  {
   "cell_type": "code",
   "execution_count": null,
   "metadata": {},
   "outputs": [],
   "source": [
    "merged_IVF_10.corr()"
   ]
  },
  {
   "cell_type": "code",
   "execution_count": null,
   "metadata": {
    "scrolled": true
   },
   "outputs": [],
   "source": [
    "# filtering out NC and proteins. Dataset above ^^ contains ALL mapped reads\n",
    "\n",
    "\n",
    "IVF_1_TPM_project_plus_wozny = pd.read_csv('/mnt/sdb1/Projects_Combined/RSEM_out_TPM/IVF_1_project_plus_wozny_TPM', sep = '\\t')\n",
    "IVF_1_TPM_project_plus_wozny.set_index('transcript_id', inplace=True)\n",
    "IVF_1_TPM_project_plus_wozny.head()"
   ]
  },
  {
   "cell_type": "code",
   "execution_count": null,
   "metadata": {},
   "outputs": [],
   "source": [
    "rnafold_nc.rename(columns={'#ID' : 'transcript_id'}, inplace=True)\n",
    "rnafold_nc.set_index('transcript_id', inplace=True)\n",
    "rnafold_nc.head()"
   ]
  },
  {
   "cell_type": "code",
   "execution_count": null,
   "metadata": {},
   "outputs": [],
   "source": [
    "rnafold_nc.shape"
   ]
  },
  {
   "cell_type": "code",
   "execution_count": null,
   "metadata": {},
   "outputs": [],
   "source": [
    "IVF_1_NC = pd.merge(IVF_1_TPM_project_plus_wozny, rnafold_nc, right_index=True, left_index=True)"
   ]
  },
  {
   "cell_type": "code",
   "execution_count": null,
   "metadata": {},
   "outputs": [],
   "source": [
    "IVF_1_NC.shape"
   ]
  },
  {
   "cell_type": "code",
   "execution_count": null,
   "metadata": {},
   "outputs": [],
   "source": [
    "IVF_1_NC.columns"
   ]
  },
  {
   "cell_type": "code",
   "execution_count": null,
   "metadata": {},
   "outputs": [],
   "source": [
    "IVF_1_NC.drop(['minimum_free_energy', 'free_energy_of_ensemble', 'centroid_structure', 'seq_len', 'MFE_corrected', 'GC_count', 'GC_content', 'Percent_GC_countent'], axis=1, inplace=True)"
   ]
  },
  {
   "cell_type": "code",
   "execution_count": null,
   "metadata": {},
   "outputs": [],
   "source": [
    "IVF_1_NC.head()"
   ]
  },
  {
   "cell_type": "code",
   "execution_count": null,
   "metadata": {},
   "outputs": [],
   "source": [
    "IVF_2_TPM_project_plus_wozny = pd.read_csv('/mnt/sdb1/Projects_Combined/RSEM_out_TPM/IVF_2_project_plus_wozny_TPM', sep='\\t')\n",
    "IVF_2_NC = pd.DataFrame()"
   ]
  },
  {
   "cell_type": "code",
   "execution_count": null,
   "metadata": {},
   "outputs": [],
   "source": [
    "IVF_2_TPM_project_plus_wozny.set_index('transcript_id', inplace=True)\n",
    "IVF_2_NC = pd.merge(IVF_2_TPM_project_plus_wozny, rnafold_nc, right_index=True, left_index=True)\n",
    "IVF_2_NC.drop(['minimum_free_energy', 'free_energy_of_ensemble', 'centroid_structure', 'seq_len', 'MFE_corrected', 'GC_count', 'GC_content', 'Percent_GC_countent'], axis=1, inplace=True)\n",
    "IVF_2_NC.shape"
   ]
  },
  {
   "cell_type": "code",
   "execution_count": null,
   "metadata": {},
   "outputs": [],
   "source": [
    "IVF_NC_merged = pd.merge(IVF_1_NC, IVF_2_NC, right_index=True, left_index=True, how='outer')"
   ]
  },
  {
   "cell_type": "code",
   "execution_count": null,
   "metadata": {},
   "outputs": [],
   "source": [
    "IVF_NC_merged['log_TPM_x'] = np.log10(IVF_NC_merged['TPM_x'].values + 1)\n",
    "IVF_NC_merged['log_TPM_y'] = np.log10(IVF_NC_merged['TPM_y'].values + 1)\n",
    "sns.regplot(x='log_TPM_x', y='log_TPM_y', data=IVF_NC_merged)"
   ]
  },
  {
   "cell_type": "code",
   "execution_count": null,
   "metadata": {},
   "outputs": [],
   "source": [
    "IVF_NC_merged.corr()"
   ]
  },
  {
   "cell_type": "code",
   "execution_count": null,
   "metadata": {},
   "outputs": [],
   "source": []
  },
  {
   "cell_type": "code",
   "execution_count": null,
   "metadata": {},
   "outputs": [],
   "source": [
    "rnafold_protein.rename(columns={'#ID' : 'transcript_id'}, inplace=True)\n",
    "rnafold_protein.set_index('transcript_id', inplace=True)\n"
   ]
  },
  {
   "cell_type": "code",
   "execution_count": null,
   "metadata": {},
   "outputs": [],
   "source": [
    "IVF_1_PROT = pd.merge(IVF_1_TPM_project_plus_wozny, rnafold_protein, right_index=True, left_index=True)\n",
    "IVF_1_PROT.drop(['minimum_free_energy', 'free_energy_of_ensemble', 'centroid_structure', 'seq_len', 'MFE_corrected', 'GC_count', 'GC_content', 'Percent_GC_countent'], axis=1, inplace=True)\n",
    "IVF_1_PROT.shape"
   ]
  },
  {
   "cell_type": "code",
   "execution_count": null,
   "metadata": {},
   "outputs": [],
   "source": [
    "IVF_2_PROT = pd.merge(IVF_2_TPM_project_plus_wozny, rnafold_protein, right_index=True, left_index=True)"
   ]
  },
  {
   "cell_type": "code",
   "execution_count": null,
   "metadata": {},
   "outputs": [],
   "source": [
    "IVF_2_PROT = pd.merge(IVF_2_TPM_project_plus_wozny, rnafold_protein, right_index=True, left_index=True)\n",
    "IVF_2_PROT.drop(['minimum_free_energy', 'free_energy_of_ensemble', 'centroid_structure', 'seq_len', 'MFE_corrected', 'GC_count', 'GC_content', 'Percent_GC_countent'], axis=1, inplace=True)\n",
    "IVF_2_PROT.shape"
   ]
  },
  {
   "cell_type": "code",
   "execution_count": null,
   "metadata": {},
   "outputs": [],
   "source": [
    "IVF_PROT_merged = pd.merge(IVF_1_PROT, IVF_2_PROT, right_index=True, left_index=True, how='outer')"
   ]
  },
  {
   "cell_type": "code",
   "execution_count": null,
   "metadata": {
    "scrolled": true
   },
   "outputs": [],
   "source": [
    "IVF_PROT_merged.head()"
   ]
  },
  {
   "cell_type": "markdown",
   "metadata": {},
   "source": [
    "### Porównanie PROT w próbkach IVF1 i IVF2"
   ]
  },
  {
   "cell_type": "code",
   "execution_count": null,
   "metadata": {},
   "outputs": [],
   "source": [
    "IVF_PROT_merged['log10 TPM IVF1'] = np.log10(IVF_PROT_merged['TPM_x'].values + 1)\n",
    "IVF_PROT_merged['log10 TPM IVF2'] = np.log10(IVF_PROT_merged['TPM_y'].values + 1)\n",
    "sns.regplot(x='log10 TPM IVF1', y='log10 TPM IVF2', data=IVF_PROT_merged)"
   ]
  },
  {
   "cell_type": "code",
   "execution_count": null,
   "metadata": {},
   "outputs": [],
   "source": [
    "IVF_PROT_merged['log10 TPM IVF1'] = np.log10(IVF_PROT_merged['TPM_x'].values + 1)\n",
    "IVF_PROT_merged['log10 TPM IVF2'] = np.log10(IVF_PROT_merged['TPM_y'].values + 1)\n",
    "sns.jointplot(x='log10 TPM IVF1', y='log10 TPM IVF2', data=IVF_PROT_merged, kind='hex')"
   ]
  },
  {
   "cell_type": "code",
   "execution_count": null,
   "metadata": {},
   "outputs": [],
   "source": [
    "sns.kdeplot(np.log10(IVF_PROT_merged['TPM_x'].values + 1), label='log10 TPM IVF1')\n",
    "sns.kdeplot(np.log10(IVF_PROT_merged['TPM_y'].values + 1), label='log10 TPM IVF2')"
   ]
  },
  {
   "cell_type": "markdown",
   "metadata": {},
   "source": [
    "###  </> Porównanie PROT w próbkach IVF1 i IVF2"
   ]
  },
  {
   "cell_type": "code",
   "execution_count": null,
   "metadata": {},
   "outputs": [],
   "source": []
  },
  {
   "cell_type": "code",
   "execution_count": null,
   "metadata": {},
   "outputs": [],
   "source": []
  },
  {
   "cell_type": "code",
   "execution_count": null,
   "metadata": {},
   "outputs": [],
   "source": [
    "IVF_PROT_merged.corr()"
   ]
  },
  {
   "cell_type": "code",
   "execution_count": null,
   "metadata": {},
   "outputs": [],
   "source": [
    "IVF_PROT_merged['log_TPM_x'].mean()"
   ]
  },
  {
   "cell_type": "code",
   "execution_count": null,
   "metadata": {},
   "outputs": [],
   "source": [
    "IVF_PROT_merged['log_TPM_y'].mean()"
   ]
  },
  {
   "cell_type": "code",
   "execution_count": null,
   "metadata": {},
   "outputs": [],
   "source": [
    "IVF_NC_merged['log_TPM_x'].mean()"
   ]
  },
  {
   "cell_type": "code",
   "execution_count": null,
   "metadata": {},
   "outputs": [],
   "source": [
    "IVF_NC_merged['log_TPM_y'].mean()"
   ]
  },
  {
   "cell_type": "code",
   "execution_count": null,
   "metadata": {},
   "outputs": [],
   "source": []
  },
  {
   "cell_type": "code",
   "execution_count": null,
   "metadata": {},
   "outputs": [],
   "source": []
  },
  {
   "cell_type": "markdown",
   "metadata": {},
   "source": [
    "### Porównanie NC i PROT w próbkach MIM1 MIM2"
   ]
  },
  {
   "cell_type": "code",
   "execution_count": null,
   "metadata": {},
   "outputs": [],
   "source": [
    "rnafold_nc = pd.read_csv('/mnt/sdb1/Projects_Combined/combined_fasta/rnafold/noncoding_rnafold_out_GC.csv')\n",
    "rnafold_nc.rename(columns={'#ID' : 'transcript_id'}, inplace=True)\n",
    "rnafold_nc.set_index('transcript_id', inplace=True)"
   ]
  },
  {
   "cell_type": "code",
   "execution_count": null,
   "metadata": {},
   "outputs": [],
   "source": [
    "\n",
    "MIM_1_TPM_project_plus_wozny = pd.read_csv('/mnt/sdb1/Projects_Combined/RSEM_out_TPM/MIM_1_project_plus_wozny_TPM', sep = '\\t')\n",
    "MIM_1_TPM_project_plus_wozny.set_index('transcript_id', inplace=True)\n",
    "MIM_1_NC = pd.merge(MIM_1_TPM_project_plus_wozny, rnafold_nc, right_index=True, left_index=True)\n",
    "MIM_1_NC.drop(['minimum_free_energy', 'free_energy_of_ensemble', 'centroid_structure', 'seq_len', 'MFE_corrected', 'GC_count', 'GC_content', 'Percent_GC_countent'], axis=1, inplace=True)\n",
    "\n",
    "MIM_2_TPM_project_plus_wozny = pd.read_csv('/mnt/sdb1/Projects_Combined/RSEM_out_TPM/MIM_2_project_plus_wozny_TPM', sep = '\\t')\n",
    "MIM_2_TPM_project_plus_wozny.set_index('transcript_id', inplace=True)\n",
    "MIM_2_NC = pd.merge(MIM_2_TPM_project_plus_wozny, rnafold_nc, right_index=True, left_index=True)\n",
    "MIM_2_NC.drop(['minimum_free_energy', 'free_energy_of_ensemble', 'centroid_structure', 'seq_len', 'MFE_corrected', 'GC_count', 'GC_content', 'Percent_GC_countent'], axis=1, inplace=True)\n",
    "\n",
    "MIM_NC_merged = pd.merge(MIM_1_NC, MIM_2_NC, right_index=True, left_index=True, how='outer')\n",
    "\n",
    "MIM_NC_merged['log_TPM_x'] = np.log2(MIM_NC_merged['TPM_x'].values + 1)\n",
    "MIM_NC_merged['log_TPM_y'] = np.log2(MIM_NC_merged['TPM_y'].values + 1)\n",
    "sns.relplot(x='log_TPM_x', y='log_TPM_y', data=MIM_NC_merged)\n"
   ]
  },
  {
   "cell_type": "code",
   "execution_count": null,
   "metadata": {
    "scrolled": true
   },
   "outputs": [],
   "source": [
    "MIM_NC_merged.corr()"
   ]
  },
  {
   "cell_type": "code",
   "execution_count": null,
   "metadata": {},
   "outputs": [],
   "source": [
    "IVF_PROT_merged.dropna(inplace=True)\n",
    "IVF_NC_merged.dropna(inplace=True)\n",
    "MIM_NC_merged.dropna(inplace=True)"
   ]
  },
  {
   "cell_type": "code",
   "execution_count": null,
   "metadata": {},
   "outputs": [],
   "source": [
    "sns.distplot(IVF_PROT_merged['log_TPM_x'], label = 'X', hist=False)\n",
    "sns.distplot(IVF_NC_merged['log_TPM_x'], label = 'NC', hist=False)\n",
    "sns.distplot(IVF_PROT_merged['log_TPM_y'], label = 'Y', hist=False)\n",
    "sns.distplot(IVF_NC_merged['log_TPM_y'], label = 'NC', hist=False)\n",
    "\n",
    "#sns.distplot(MIM_PROT_merged['log_TPM_x'], label = 'X', hist=False)\n",
    "#sns.distplot(MIM_NC_merged['log_TPM_x'], label = 'NC', hist=False)\n",
    "#sns.distplot(MIM_PROT_merged['log_TPM_y'], label = 'Y', hist=False)\n",
    "#sns.distplot(MIM_NC_merged['log_TPM_y'], label = 'NC', hist=False)\n"
   ]
  },
  {
   "cell_type": "code",
   "execution_count": null,
   "metadata": {},
   "outputs": [],
   "source": []
  },
  {
   "cell_type": "code",
   "execution_count": null,
   "metadata": {},
   "outputs": [],
   "source": []
  },
  {
   "cell_type": "code",
   "execution_count": null,
   "metadata": {},
   "outputs": [],
   "source": []
  },
  {
   "cell_type": "code",
   "execution_count": null,
   "metadata": {},
   "outputs": [],
   "source": []
  },
  {
   "cell_type": "code",
   "execution_count": null,
   "metadata": {},
   "outputs": [],
   "source": []
  },
  {
   "cell_type": "markdown",
   "metadata": {},
   "source": [
    "Statistics:\n",
    "==="
   ]
  },
  {
   "cell_type": "markdown",
   "metadata": {},
   "source": [
    "MFE corrected:\n",
    "---"
   ]
  },
  {
   "cell_type": "code",
   "execution_count": null,
   "metadata": {},
   "outputs": [],
   "source": [
    "# according to shapiro the data is not normally distributed, however I'll proceed with Welsch\n",
    "\n",
    "# This is Welsch test:\n",
    "\n",
    "stats.ttest_ind(rnafold_protein['MFE_corrected'], rnafold_nc['MFE_corrected'], equal_var = False)"
   ]
  },
  {
   "cell_type": "code",
   "execution_count": null,
   "metadata": {},
   "outputs": [],
   "source": [
    "# function to calculate Cohen's d for independent samples\n",
    "\n",
    "d1 = rnafold_protein['MFE_corrected'].values\n",
    "d2 = rnafold_nc_4000['MFE_corrected'].values\n",
    "\n",
    "def cohend(d1, d2):\n",
    "    # calculate the size of samples\n",
    "    n1, n2 = len(d1), len(d2)\n",
    "    # calculate the variance of the samples\n",
    "    s1, s2 = np.var(d1, ddof=1), np.var(d2, ddof=1)\n",
    "    # calculate the pooled standard deviation\n",
    "    s = sqrt(((n1 - 1) * s1 + (n2 - 1) * s2) / (n1 + n2 - 2))\n",
    "    # calculate the means of the samples\n",
    "    u1, u2 = np.mean(d1), np.mean(d2)\n",
    "    # calculate the effect size\n",
    "\n",
    "    return (u1 - u2) / s\n",
    "\n",
    "cohend(d1, d2)"
   ]
  },
  {
   "cell_type": "code",
   "execution_count": null,
   "metadata": {},
   "outputs": [],
   "source": [
    "# Kolmogorov-Smirnov to check if two distributions were the same\n",
    "# This performs a test of the distribution G(x) of an observed random variable \n",
    "# against a given distribution F(x). \n",
    "# Under the null hypothesis the two distributions are identical, G(x)=F(x)\n",
    "\n",
    "from scipy.stats import ks_2samp # kstest for 2 samples\n",
    "\n",
    "stats.ks_2samp(rnafold_protein['MFE_corrected'], rnafold_nc['MFE_corrected'])"
   ]
  },
  {
   "cell_type": "markdown",
   "metadata": {},
   "source": [
    "### MFE content confidence interval"
   ]
  },
  {
   "cell_type": "code",
   "execution_count": null,
   "metadata": {},
   "outputs": [],
   "source": [
    "diff_mean = rnafold_protein['GC_content'].mean() - rnafold_nc['GC_content'].mean()\n",
    "diff_mean"
   ]
  },
  {
   "cell_type": "code",
   "execution_count": null,
   "metadata": {},
   "outputs": [],
   "source": [
    "diff_mean = rnafold_protein['MFE_corrected'].mean() - rnafold_nc['MFE_corrected'].mean()\n",
    "diff_mean\n",
    "\n",
    "# df = deegrees of freedom\n",
    "\n",
    "df = (rnafold_protein['MFE_corrected'].count() + rnafold_nc['MFE_corrected'].count()) - 2\n",
    "df\n",
    "\n",
    "t_val = t.ppf([0.975], df)\n",
    "t_val\n",
    "\n",
    "N1 = rnafold_protein['MFE_corrected'].count()\n",
    "N2 = rnafold_nc['MFE_corrected'].count()\n",
    "\n",
    "std1 = rnafold_protein['MFE_corrected'].std()\n",
    "std2 = rnafold_nc['MFE_corrected'].count()\n",
    "\n",
    "std_N1N2 = sqrt(((N1 - 1)*(std1)**2 + (N2 - 1)*(std2)**2) / df) \n",
    "\n",
    "MoE = t.ppf(0.975, df) * std_N1N2 * sqrt(1/N1 + 1/N2)\n",
    "MoE\n",
    "\n",
    "print ('\\nThe difference between groups is {:3.1f} [{:3.1f} to {:3.1f}] (mean [95% CI])'.format(diff_mean, diff_mean - MoE, diff_mean + MoE))"
   ]
  },
  {
   "cell_type": "markdown",
   "metadata": {},
   "source": [
    "GC Content:\n",
    "---"
   ]
  },
  {
   "cell_type": "code",
   "execution_count": null,
   "metadata": {
    "scrolled": true
   },
   "outputs": [],
   "source": [
    "stats.ttest_ind(rnafold_protein['GC_content'], rnafold_nc['GC_content'], equal_var = False)"
   ]
  },
  {
   "cell_type": "code",
   "execution_count": null,
   "metadata": {},
   "outputs": [],
   "source": [
    "stats.ks_2samp(rnafold_protein['GC_content'], rnafold_nc['GC_content'])"
   ]
  },
  {
   "cell_type": "markdown",
   "metadata": {},
   "source": [
    "### GC content confidence interval\n",
    "\n"
   ]
  },
  {
   "cell_type": "code",
   "execution_count": null,
   "metadata": {},
   "outputs": [],
   "source": [
    "diff_mean = rnafold_protein['GC_content'].mean() - rnafold_nc['GC_content'].mean()\n",
    "diff_mean"
   ]
  },
  {
   "cell_type": "code",
   "execution_count": null,
   "metadata": {},
   "outputs": [],
   "source": [
    "# df = deegrees of freedom\n",
    "\n",
    "df = (rnafold_protein['GC_content'].count() + rnafold_nc['GC_content'].count()) - 2\n",
    "df"
   ]
  },
  {
   "cell_type": "code",
   "execution_count": null,
   "metadata": {},
   "outputs": [],
   "source": [
    "from scipy.stats import t\n",
    "t_val = t.ppf([0.975], df)\n",
    "t_val"
   ]
  },
  {
   "cell_type": "code",
   "execution_count": null,
   "metadata": {},
   "outputs": [],
   "source": [
    "N1 = rnafold_protein['GC_content'].count()\n",
    "N2 = rnafold_nc['GC_content'].count()\n",
    "\n",
    "std1 = rnafold_protein['GC_content'].std()\n",
    "std2 = rnafold_nc['GC_content'].count()\n",
    "\n",
    "std_N1N2 = sqrt(((N1 - 1)*(std1)**2 + (N2 - 1)*(std2)**2) / df) "
   ]
  },
  {
   "cell_type": "code",
   "execution_count": null,
   "metadata": {},
   "outputs": [],
   "source": [
    "MoE = t.ppf(0.975, df) * std_N1N2 * sqrt(1/N1 + 1/N2)\n",
    "MoE"
   ]
  },
  {
   "cell_type": "code",
   "execution_count": null,
   "metadata": {},
   "outputs": [],
   "source": [
    "print ('\\nThe difference between groups is {:3.1f} [{:3.1f} to {:3.1f}] (mean [95% CI])'.format(diff_mean, diff_mean - MoE, diff_mean + MoE))"
   ]
  },
  {
   "cell_type": "code",
   "execution_count": null,
   "metadata": {},
   "outputs": [],
   "source": []
  },
  {
   "cell_type": "markdown",
   "metadata": {},
   "source": [
    "Length:\n",
    "---"
   ]
  },
  {
   "cell_type": "code",
   "execution_count": null,
   "metadata": {},
   "outputs": [],
   "source": [
    "stats.ttest_ind(rnafold_protein['seq_len'], rnafold_nc['seq_len'], equal_var = False)"
   ]
  },
  {
   "cell_type": "code",
   "execution_count": null,
   "metadata": {},
   "outputs": [],
   "source": [
    "stats.ks_2samp(rnafold_protein['seq_len'], rnafold_nc['seq_len'])"
   ]
  },
  {
   "cell_type": "code",
   "execution_count": null,
   "metadata": {},
   "outputs": [],
   "source": []
  },
  {
   "cell_type": "markdown",
   "metadata": {},
   "source": [
    "# Statistics for MFE_corrected\n",
    "\n"
   ]
  },
  {
   "cell_type": "code",
   "execution_count": null,
   "metadata": {},
   "outputs": [],
   "source": [
    "stats.shapiro(rnafold_protein['MFE_corrected'])"
   ]
  },
  {
   "cell_type": "code",
   "execution_count": null,
   "metadata": {},
   "outputs": [],
   "source": [
    "stats.shapiro(rnafold_nc['MFE_corrected'])"
   ]
  },
  {
   "cell_type": "code",
   "execution_count": null,
   "metadata": {},
   "outputs": [],
   "source": [
    "rnafold_nc_4000 = rnafold_nc.head(4000)"
   ]
  },
  {
   "cell_type": "code",
   "execution_count": null,
   "metadata": {},
   "outputs": [],
   "source": [
    "rnafold_nc_4000.describe()"
   ]
  },
  {
   "cell_type": "code",
   "execution_count": null,
   "metadata": {},
   "outputs": [],
   "source": [
    "stats.shapiro(rnafold_nc_4000['MFE_corrected'].sample(50))"
   ]
  },
  {
   "cell_type": "code",
   "execution_count": null,
   "metadata": {},
   "outputs": [],
   "source": [
    "rnafold_nc_4000.plot.hist(label = 'Coding', legend = True, bins=40)"
   ]
  },
  {
   "cell_type": "code",
   "execution_count": null,
   "metadata": {},
   "outputs": [],
   "source": []
  },
  {
   "cell_type": "markdown",
   "metadata": {},
   "source": [
    "two groups were sampled from different distributions at p < 0.0001"
   ]
  },
  {
   "cell_type": "code",
   "execution_count": null,
   "metadata": {},
   "outputs": [],
   "source": [
    "# kstest, porównanie badanej z rozkladem normalnym, w celu sprawdzenia normalności\n",
    "\n",
    "stats.kstest(rnafold_protein['MFE_corrected'], 'norm')\n"
   ]
  },
  {
   "cell_type": "code",
   "execution_count": null,
   "metadata": {},
   "outputs": [],
   "source": [
    "stats.kstest(rnafold_nc['MFE_corrected'], 'norm')"
   ]
  },
  {
   "cell_type": "code",
   "execution_count": null,
   "metadata": {},
   "outputs": [],
   "source": [
    "from statsmodels.stats.diagnostic import lilliefors\n",
    "\n",
    "lilliefors(rnafold_protein['MFE_corrected'])"
   ]
  },
  {
   "cell_type": "code",
   "execution_count": null,
   "metadata": {},
   "outputs": [],
   "source": [
    "lilliefors(rnafold_nc['MFE_corrected'])"
   ]
  },
  {
   "cell_type": "code",
   "execution_count": null,
   "metadata": {},
   "outputs": [],
   "source": [
    "lilliefors[rnafold_protein['MFE_corrected'], rnafold_nc_4000['MFE_corrected']]"
   ]
  },
  {
   "cell_type": "code",
   "execution_count": null,
   "metadata": {},
   "outputs": [],
   "source": [
    "stats.pearsonr(rnafold_protein['MFE_corrected'], rnafold_nc_4000['MFE_corrected'])"
   ]
  },
  {
   "cell_type": "markdown",
   "metadata": {},
   "source": [
    "Wszystkie znaki wskazują, że "
   ]
  },
  {
   "cell_type": "code",
   "execution_count": null,
   "metadata": {},
   "outputs": [],
   "source": [
    "# alternative test for non-normal distributed samples\n",
    "\n",
    "stats.mannwhitneyu(rnafold_protein['MFE_corrected'], rnafold_nc['MFE_corrected'])"
   ]
  },
  {
   "cell_type": "code",
   "execution_count": null,
   "metadata": {},
   "outputs": [],
   "source": []
  },
  {
   "cell_type": "code",
   "execution_count": null,
   "metadata": {},
   "outputs": [],
   "source": [
    "rnafold_protein_1000 = rnafold_protein.sample(3000)"
   ]
  },
  {
   "cell_type": "code",
   "execution_count": null,
   "metadata": {},
   "outputs": [],
   "source": [
    "lilliefors(rnafold_protein_1000['MFE_corrected'])"
   ]
  },
  {
   "cell_type": "code",
   "execution_count": null,
   "metadata": {},
   "outputs": [],
   "source": [
    "stats.normaltest(rnafold_protein_1000['MFE_corrected'])"
   ]
  },
  {
   "cell_type": "code",
   "execution_count": null,
   "metadata": {},
   "outputs": [],
   "source": []
  },
  {
   "cell_type": "code",
   "execution_count": null,
   "metadata": {},
   "outputs": [],
   "source": [
    "stats.kstest(rnafold_nc['seq_len'], 'norm')"
   ]
  },
  {
   "cell_type": "markdown",
   "metadata": {},
   "source": [
    "# check for normal distribution (qqplot + hists)"
   ]
  },
  {
   "cell_type": "code",
   "execution_count": null,
   "metadata": {},
   "outputs": [],
   "source": [
    "import numpy as np \n",
    "import pylab \n",
    "import scipy.stats as stats"
   ]
  },
  {
   "cell_type": "markdown",
   "metadata": {},
   "source": [
    "## MFE NC"
   ]
  },
  {
   "cell_type": "code",
   "execution_count": null,
   "metadata": {
    "scrolled": true
   },
   "outputs": [],
   "source": [
    "\n",
    "stats.probplot(rnafold_nc['MFE_corrected'], dist=\"norm\", plot=pylab)\n",
    "pylab.show()\n"
   ]
  },
  {
   "cell_type": "code",
   "execution_count": null,
   "metadata": {
    "scrolled": true
   },
   "outputs": [],
   "source": [
    "rnafold_nc['MFE_corrected'].plot.hist(label = 'Non-coding', legend = True, bins = 40)"
   ]
  },
  {
   "cell_type": "markdown",
   "metadata": {},
   "source": [
    "## MFE PROT"
   ]
  },
  {
   "cell_type": "code",
   "execution_count": null,
   "metadata": {},
   "outputs": [],
   "source": [
    "stats.probplot(rnafold_protein['MFE_corrected'], dist=\"norm\", plot=pylab)\n",
    "pylab.show()"
   ]
  },
  {
   "cell_type": "code",
   "execution_count": null,
   "metadata": {
    "scrolled": true
   },
   "outputs": [],
   "source": [
    "rnafold_protein['MFE_corrected'].plot.hist(label = 'Coding', legend = True, bins=40)"
   ]
  },
  {
   "cell_type": "markdown",
   "metadata": {},
   "source": [
    "## GC_cont NC"
   ]
  },
  {
   "cell_type": "code",
   "execution_count": null,
   "metadata": {
    "scrolled": true
   },
   "outputs": [],
   "source": [
    "stats.probplot(rnafold_nc['GC_content'], dist=\"norm\", plot=pylab)\n",
    "pylab.show()"
   ]
  },
  {
   "cell_type": "code",
   "execution_count": null,
   "metadata": {
    "scrolled": true
   },
   "outputs": [],
   "source": [
    "rnafold_nc['GC_content'].plot.hist(label = 'Non-coding', legend = True, bins = 40)"
   ]
  },
  {
   "cell_type": "markdown",
   "metadata": {},
   "source": [
    "## GC_cont PROT"
   ]
  },
  {
   "cell_type": "code",
   "execution_count": null,
   "metadata": {},
   "outputs": [],
   "source": [
    "stats.probplot(rnafold_protein['GC_content'], dist=\"norm\", plot=pylab)\n",
    "pylab.show()"
   ]
  },
  {
   "cell_type": "code",
   "execution_count": null,
   "metadata": {
    "scrolled": true
   },
   "outputs": [],
   "source": [
    "rnafold_protein['MFE_corrected'].plot.hist(label = 'Coding', legend = True, bins = 40)"
   ]
  },
  {
   "cell_type": "markdown",
   "metadata": {},
   "source": [
    "## SEQ_LEN NC\n",
    "\n",
    "### if not normally dist. = Mann_whitney?"
   ]
  },
  {
   "cell_type": "code",
   "execution_count": null,
   "metadata": {
    "scrolled": true
   },
   "outputs": [],
   "source": [
    "stats.probplot(rnafold_nc['seq_len'], dist=\"norm\", plot=pylab)\n",
    "pylab.show()"
   ]
  },
  {
   "cell_type": "code",
   "execution_count": null,
   "metadata": {
    "scrolled": true
   },
   "outputs": [],
   "source": [
    "rnafold_nc['seq_len'].plot.hist(label = 'Non-coding', legend = True, bins = 40)"
   ]
  },
  {
   "cell_type": "markdown",
   "metadata": {},
   "source": [
    "## SEQ_LEN PROT"
   ]
  },
  {
   "cell_type": "code",
   "execution_count": null,
   "metadata": {},
   "outputs": [],
   "source": [
    "stats.probplot(rnafold_protein['seq_len'], dist=\"norm\", plot=pylab)\n",
    "pylab.show()"
   ]
  },
  {
   "cell_type": "code",
   "execution_count": null,
   "metadata": {},
   "outputs": [],
   "source": [
    "rnafold_nc['seq_len'].plot.hist(label = 'Coding', legend = True, bins = 40)"
   ]
  },
  {
   "cell_type": "code",
   "execution_count": null,
   "metadata": {},
   "outputs": [],
   "source": []
  },
  {
   "cell_type": "code",
   "execution_count": null,
   "metadata": {},
   "outputs": [],
   "source": []
  },
  {
   "cell_type": "markdown",
   "metadata": {},
   "source": [
    "### lncrnanet"
   ]
  },
  {
   "cell_type": "code",
   "execution_count": null,
   "metadata": {},
   "outputs": [],
   "source": [
    "lncrnanet = pd.read_csv('/home/maciek/Pobrane/lncRNAnet/output/lncrnanet_output.txt', sep='\\t')\n",
    "lncrnanet.columns = ['#ID', 'seq_len', 'prob']"
   ]
  },
  {
   "cell_type": "code",
   "execution_count": null,
   "metadata": {},
   "outputs": [],
   "source": [
    "lncrnanet.head()"
   ]
  },
  {
   "cell_type": "code",
   "execution_count": null,
   "metadata": {},
   "outputs": [],
   "source": [
    "lncrnanet_99 = lncrnanet[lncrnanet['prob'] >= 0.998]"
   ]
  },
  {
   "cell_type": "code",
   "execution_count": null,
   "metadata": {},
   "outputs": [],
   "source": [
    "lncrnanet_99.shape"
   ]
  },
  {
   "cell_type": "code",
   "execution_count": null,
   "metadata": {
    "scrolled": true
   },
   "outputs": [],
   "source": [
    "lncrnanet_99.sort_values(by=['prob'], ascending = False)"
   ]
  },
  {
   "cell_type": "code",
   "execution_count": null,
   "metadata": {},
   "outputs": [],
   "source": [
    "rnafold_nc.head(5)"
   ]
  },
  {
   "cell_type": "code",
   "execution_count": null,
   "metadata": {},
   "outputs": [],
   "source": [
    "nc_lncnet_merged = pd.merge(rnafold_nc, lncrnanet, on=\"#ID\")"
   ]
  },
  {
   "cell_type": "code",
   "execution_count": null,
   "metadata": {
    "scrolled": true
   },
   "outputs": [],
   "source": [
    "nc_lncnet_merged.sort_values(by='prob', ascending=False)"
   ]
  },
  {
   "cell_type": "code",
   "execution_count": null,
   "metadata": {},
   "outputs": [],
   "source": [
    "nc_lncnet99_merged = pd.merge(rnafold_nc, lncrnanet_99, on='#ID')"
   ]
  },
  {
   "cell_type": "code",
   "execution_count": null,
   "metadata": {},
   "outputs": [],
   "source": [
    "# wpolne dla nc i lncrnanet99"
   ]
  },
  {
   "cell_type": "code",
   "execution_count": null,
   "metadata": {},
   "outputs": [],
   "source": [
    "nc_lncnet99_merged.shape"
   ]
  },
  {
   "cell_type": "code",
   "execution_count": null,
   "metadata": {},
   "outputs": [],
   "source": [
    "nc_lncnet99_merged"
   ]
  },
  {
   "cell_type": "code",
   "execution_count": null,
   "metadata": {},
   "outputs": [],
   "source": []
  },
  {
   "cell_type": "code",
   "execution_count": null,
   "metadata": {},
   "outputs": [],
   "source": []
  },
  {
   "cell_type": "code",
   "execution_count": null,
   "metadata": {},
   "outputs": [],
   "source": []
  },
  {
   "cell_type": "code",
   "execution_count": null,
   "metadata": {},
   "outputs": [],
   "source": []
  },
  {
   "cell_type": "code",
   "execution_count": null,
   "metadata": {},
   "outputs": [],
   "source": []
  },
  {
   "cell_type": "code",
   "execution_count": null,
   "metadata": {},
   "outputs": [],
   "source": []
  },
  {
   "cell_type": "markdown",
   "metadata": {},
   "source": [
    "### SIGNIFICANT ncRNA from project_combined"
   ]
  },
  {
   "cell_type": "code",
   "execution_count": null,
   "metadata": {},
   "outputs": [],
   "source": [
    "df_significant = pd.read_csv('/mnt/sdb1/Projects_Combined/combined_fasta/cmscan.csv')"
   ]
  },
  {
   "cell_type": "code",
   "execution_count": null,
   "metadata": {},
   "outputs": [],
   "source": [
    "df_significant = df_significant[df_significant['inc'] == '!']\n",
    "\n",
    "df_significant.to_csv('/mnt/sdb1/Projects_Combined/combined_fasta/cmscan_significant.csv', index=False)"
   ]
  },
  {
   "cell_type": "code",
   "execution_count": null,
   "metadata": {},
   "outputs": [],
   "source": []
  },
  {
   "cell_type": "code",
   "execution_count": null,
   "metadata": {},
   "outputs": [],
   "source": []
  }
 ],
 "metadata": {
  "kernelspec": {
   "display_name": "Python 3",
   "language": "python",
   "name": "python3"
  },
  "language_info": {
   "codemirror_mode": {
    "name": "ipython",
    "version": 3
   },
   "file_extension": ".py",
   "mimetype": "text/x-python",
   "name": "python",
   "nbconvert_exporter": "python",
   "pygments_lexer": "ipython3",
   "version": "3.7.8"
  }
 },
 "nbformat": 4,
 "nbformat_minor": 2
}
